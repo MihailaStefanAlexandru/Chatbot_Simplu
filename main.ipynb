{
 "cells": [
  {
   "cell_type": "markdown",
   "metadata": {},
   "source": [
    "# Chatbot pentru răspunderea la întrebări frecvente\n",
    "\n"
   ]
  },
  {
   "cell_type": "markdown",
   "metadata": {},
   "source": [
    "## Instalarea bibliotecilor necesare"
   ]
  },
  {
   "cell_type": "code",
   "execution_count": 13,
   "metadata": {},
   "outputs": [
    {
     "name": "stdout",
     "output_type": "stream",
     "text": [
      "Requirement already satisfied: numpy in c:\\users\\akopo\\appdata\\local\\packages\\pythonsoftwarefoundation.python.3.11_qbz5n2kfra8p0\\localcache\\local-packages\\python311\\site-packages (2.3.1)\n",
      "Note: you may need to restart the kernel to use updated packages.\n"
     ]
    },
    {
     "name": "stderr",
     "output_type": "stream",
     "text": [
      "\n",
      "[notice] A new release of pip is available: 24.0 -> 25.1.1\n",
      "[notice] To update, run: C:\\Users\\akopo\\AppData\\Local\\Microsoft\\WindowsApps\\PythonSoftwareFoundation.Python.3.11_qbz5n2kfra8p0\\python.exe -m pip install --upgrade pip\n"
     ]
    },
    {
     "name": "stdout",
     "output_type": "stream",
     "text": [
      "Requirement already satisfied: scikit-learn in c:\\users\\akopo\\appdata\\local\\packages\\pythonsoftwarefoundation.python.3.11_qbz5n2kfra8p0\\localcache\\local-packages\\python311\\site-packages (1.7.0)\n",
      "Requirement already satisfied: numpy>=1.22.0 in c:\\users\\akopo\\appdata\\local\\packages\\pythonsoftwarefoundation.python.3.11_qbz5n2kfra8p0\\localcache\\local-packages\\python311\\site-packages (from scikit-learn) (2.3.1)\n",
      "Requirement already satisfied: scipy>=1.8.0 in c:\\users\\akopo\\appdata\\local\\packages\\pythonsoftwarefoundation.python.3.11_qbz5n2kfra8p0\\localcache\\local-packages\\python311\\site-packages (from scikit-learn) (1.16.0)\n",
      "Requirement already satisfied: joblib>=1.2.0 in c:\\users\\akopo\\appdata\\local\\packages\\pythonsoftwarefoundation.python.3.11_qbz5n2kfra8p0\\localcache\\local-packages\\python311\\site-packages (from scikit-learn) (1.5.1)\n",
      "Requirement already satisfied: threadpoolctl>=3.1.0 in c:\\users\\akopo\\appdata\\local\\packages\\pythonsoftwarefoundation.python.3.11_qbz5n2kfra8p0\\localcache\\local-packages\\python311\\site-packages (from scikit-learn) (3.6.0)\n",
      "Note: you may need to restart the kernel to use updated packages.\n"
     ]
    },
    {
     "name": "stderr",
     "output_type": "stream",
     "text": [
      "\n",
      "[notice] A new release of pip is available: 24.0 -> 25.1.1\n",
      "[notice] To update, run: C:\\Users\\akopo\\AppData\\Local\\Microsoft\\WindowsApps\\PythonSoftwareFoundation.Python.3.11_qbz5n2kfra8p0\\python.exe -m pip install --upgrade pip\n"
     ]
    },
    {
     "name": "stdout",
     "output_type": "stream",
     "text": [
      "Requirement already satisfied: scipy in c:\\users\\akopo\\appdata\\local\\packages\\pythonsoftwarefoundation.python.3.11_qbz5n2kfra8p0\\localcache\\local-packages\\python311\\site-packages (1.16.0)\n",
      "Requirement already satisfied: numpy<2.6,>=1.25.2 in c:\\users\\akopo\\appdata\\local\\packages\\pythonsoftwarefoundation.python.3.11_qbz5n2kfra8p0\\localcache\\local-packages\\python311\\site-packages (from scipy) (2.3.1)\n",
      "Note: you may need to restart the kernel to use updated packages.\n"
     ]
    },
    {
     "name": "stderr",
     "output_type": "stream",
     "text": [
      "\n",
      "[notice] A new release of pip is available: 24.0 -> 25.1.1\n",
      "[notice] To update, run: C:\\Users\\akopo\\AppData\\Local\\Microsoft\\WindowsApps\\PythonSoftwareFoundation.Python.3.11_qbz5n2kfra8p0\\python.exe -m pip install --upgrade pip\n"
     ]
    },
    {
     "name": "stdout",
     "output_type": "stream",
     "text": [
      "Requirement already satisfied: nltk in c:\\users\\akopo\\appdata\\local\\packages\\pythonsoftwarefoundation.python.3.11_qbz5n2kfra8p0\\localcache\\local-packages\\python311\\site-packages (3.9.1)\n",
      "Requirement already satisfied: click in c:\\users\\akopo\\appdata\\local\\packages\\pythonsoftwarefoundation.python.3.11_qbz5n2kfra8p0\\localcache\\local-packages\\python311\\site-packages (from nltk) (8.2.1)\n",
      "Requirement already satisfied: joblib in c:\\users\\akopo\\appdata\\local\\packages\\pythonsoftwarefoundation.python.3.11_qbz5n2kfra8p0\\localcache\\local-packages\\python311\\site-packages (from nltk) (1.5.1)\n",
      "Requirement already satisfied: regex>=2021.8.3 in c:\\users\\akopo\\appdata\\local\\packages\\pythonsoftwarefoundation.python.3.11_qbz5n2kfra8p0\\localcache\\local-packages\\python311\\site-packages (from nltk) (2024.11.6)\n",
      "Requirement already satisfied: tqdm in c:\\users\\akopo\\appdata\\local\\packages\\pythonsoftwarefoundation.python.3.11_qbz5n2kfra8p0\\localcache\\local-packages\\python311\\site-packages (from nltk) (4.67.1)\n",
      "Requirement already satisfied: colorama in c:\\users\\akopo\\appdata\\local\\packages\\pythonsoftwarefoundation.python.3.11_qbz5n2kfra8p0\\localcache\\local-packages\\python311\\site-packages (from click->nltk) (0.4.6)\n",
      "Note: you may need to restart the kernel to use updated packages.\n"
     ]
    },
    {
     "name": "stderr",
     "output_type": "stream",
     "text": [
      "\n",
      "[notice] A new release of pip is available: 24.0 -> 25.1.1\n",
      "[notice] To update, run: C:\\Users\\akopo\\AppData\\Local\\Microsoft\\WindowsApps\\PythonSoftwareFoundation.Python.3.11_qbz5n2kfra8p0\\python.exe -m pip install --upgrade pip\n"
     ]
    },
    {
     "name": "stdout",
     "output_type": "stream",
     "text": [
      "Requirement already satisfied: pandas in c:\\users\\akopo\\appdata\\local\\packages\\pythonsoftwarefoundation.python.3.11_qbz5n2kfra8p0\\localcache\\local-packages\\python311\\site-packages (2.3.0)\n",
      "Requirement already satisfied: numpy>=1.23.2 in c:\\users\\akopo\\appdata\\local\\packages\\pythonsoftwarefoundation.python.3.11_qbz5n2kfra8p0\\localcache\\local-packages\\python311\\site-packages (from pandas) (2.3.1)\n",
      "Requirement already satisfied: python-dateutil>=2.8.2 in c:\\users\\akopo\\appdata\\local\\packages\\pythonsoftwarefoundation.python.3.11_qbz5n2kfra8p0\\localcache\\local-packages\\python311\\site-packages (from pandas) (2.9.0.post0)\n",
      "Requirement already satisfied: pytz>=2020.1 in c:\\users\\akopo\\appdata\\local\\packages\\pythonsoftwarefoundation.python.3.11_qbz5n2kfra8p0\\localcache\\local-packages\\python311\\site-packages (from pandas) (2025.2)\n",
      "Requirement already satisfied: tzdata>=2022.7 in c:\\users\\akopo\\appdata\\local\\packages\\pythonsoftwarefoundation.python.3.11_qbz5n2kfra8p0\\localcache\\local-packages\\python311\\site-packages (from pandas) (2025.2)\n",
      "Requirement already satisfied: six>=1.5 in c:\\users\\akopo\\appdata\\local\\packages\\pythonsoftwarefoundation.python.3.11_qbz5n2kfra8p0\\localcache\\local-packages\\python311\\site-packages (from python-dateutil>=2.8.2->pandas) (1.17.0)\n",
      "Note: you may need to restart the kernel to use updated packages.\n"
     ]
    },
    {
     "name": "stderr",
     "output_type": "stream",
     "text": [
      "\n",
      "[notice] A new release of pip is available: 24.0 -> 25.1.1\n",
      "[notice] To update, run: C:\\Users\\akopo\\AppData\\Local\\Microsoft\\WindowsApps\\PythonSoftwareFoundation.Python.3.11_qbz5n2kfra8p0\\python.exe -m pip install --upgrade pip\n"
     ]
    },
    {
     "name": "stdout",
     "output_type": "stream",
     "text": [
      "Requirement already satisfied: matplotlib in c:\\users\\akopo\\appdata\\local\\packages\\pythonsoftwarefoundation.python.3.11_qbz5n2kfra8p0\\localcache\\local-packages\\python311\\site-packages (3.10.3)\n",
      "Requirement already satisfied: contourpy>=1.0.1 in c:\\users\\akopo\\appdata\\local\\packages\\pythonsoftwarefoundation.python.3.11_qbz5n2kfra8p0\\localcache\\local-packages\\python311\\site-packages (from matplotlib) (1.3.2)\n",
      "Requirement already satisfied: cycler>=0.10 in c:\\users\\akopo\\appdata\\local\\packages\\pythonsoftwarefoundation.python.3.11_qbz5n2kfra8p0\\localcache\\local-packages\\python311\\site-packages (from matplotlib) (0.12.1)\n",
      "Requirement already satisfied: fonttools>=4.22.0 in c:\\users\\akopo\\appdata\\local\\packages\\pythonsoftwarefoundation.python.3.11_qbz5n2kfra8p0\\localcache\\local-packages\\python311\\site-packages (from matplotlib) (4.58.4)\n",
      "Requirement already satisfied: kiwisolver>=1.3.1 in c:\\users\\akopo\\appdata\\local\\packages\\pythonsoftwarefoundation.python.3.11_qbz5n2kfra8p0\\localcache\\local-packages\\python311\\site-packages (from matplotlib) (1.4.8)\n",
      "Requirement already satisfied: numpy>=1.23 in c:\\users\\akopo\\appdata\\local\\packages\\pythonsoftwarefoundation.python.3.11_qbz5n2kfra8p0\\localcache\\local-packages\\python311\\site-packages (from matplotlib) (2.3.1)\n",
      "Requirement already satisfied: packaging>=20.0 in c:\\users\\akopo\\appdata\\local\\packages\\pythonsoftwarefoundation.python.3.11_qbz5n2kfra8p0\\localcache\\local-packages\\python311\\site-packages (from matplotlib) (24.2)\n",
      "Requirement already satisfied: pillow>=8 in c:\\users\\akopo\\appdata\\local\\packages\\pythonsoftwarefoundation.python.3.11_qbz5n2kfra8p0\\localcache\\local-packages\\python311\\site-packages (from matplotlib) (11.2.1)\n",
      "Requirement already satisfied: pyparsing>=2.3.1 in c:\\users\\akopo\\appdata\\local\\packages\\pythonsoftwarefoundation.python.3.11_qbz5n2kfra8p0\\localcache\\local-packages\\python311\\site-packages (from matplotlib) (3.2.3)\n",
      "Requirement already satisfied: python-dateutil>=2.7 in c:\\users\\akopo\\appdata\\local\\packages\\pythonsoftwarefoundation.python.3.11_qbz5n2kfra8p0\\localcache\\local-packages\\python311\\site-packages (from matplotlib) (2.9.0.post0)\n",
      "Requirement already satisfied: six>=1.5 in c:\\users\\akopo\\appdata\\local\\packages\\pythonsoftwarefoundation.python.3.11_qbz5n2kfra8p0\\localcache\\local-packages\\python311\\site-packages (from python-dateutil>=2.7->matplotlib) (1.17.0)\n",
      "Note: you may need to restart the kernel to use updated packages.\n"
     ]
    },
    {
     "name": "stderr",
     "output_type": "stream",
     "text": [
      "\n",
      "[notice] A new release of pip is available: 24.0 -> 25.1.1\n",
      "[notice] To update, run: C:\\Users\\akopo\\AppData\\Local\\Microsoft\\WindowsApps\\PythonSoftwareFoundation.Python.3.11_qbz5n2kfra8p0\\python.exe -m pip install --upgrade pip\n"
     ]
    }
   ],
   "source": [
    "# daca nu sunt deja instalate\n",
    "# altfel se comenteaza\n",
    "%pip install numpy\n",
    "%pip install scikit-learn\n",
    "%pip install scipy\n",
    "%pip install nltk\n",
    "%pip install pandas\n",
    "%pip install matplotlib"
   ]
  },
  {
   "cell_type": "markdown",
   "metadata": {},
   "source": [
    "## Prelucrarea datelor\n",
    "\n",
    "1. Impartirea setului de date pentru antrenarea modelului"
   ]
  },
  {
   "cell_type": "code",
   "execution_count": 14,
   "metadata": {},
   "outputs": [
    {
     "name": "stdout",
     "output_type": "stream",
     "text": [
      "Index(['ArticleTitle', 'Question', 'Answer', 'DifficultyFromQuestioner',\n",
      "       'DifficultyFromAnswerer', 'ArticleFile'],\n",
      "      dtype='object')\n",
      "                                               Question  \\\n",
      "0     Was Abraham Lincoln the sixteenth President of...   \n",
      "1     Was Abraham Lincoln the sixteenth President of...   \n",
      "2     Did Lincoln sign the National Banking Act of 1...   \n",
      "3     Did Lincoln sign the National Banking Act of 1...   \n",
      "4                      Did his mother die of pneumonia?   \n",
      "...                                                 ...   \n",
      "3992          What areas do the Grevy's Zebras inhabit?   \n",
      "3994  Which species of zebra is known as the common ...   \n",
      "3995  Which species of zebra is known as the common ...   \n",
      "3996                     At what age can a zebra breed?   \n",
      "3997                     At what age can a zebra breed?   \n",
      "\n",
      "                                                 Answer  \n",
      "0                                                   yes  \n",
      "1                                                  Yes.  \n",
      "2                                                   yes  \n",
      "3                                                  Yes.  \n",
      "4                                                    no  \n",
      "...                                                 ...  \n",
      "3992  semi-arid grasslands of Ethiopia and northern ...  \n",
      "3994  Plains Zebra (Equus quagga, formerly Equus bur...  \n",
      "3995                                       Plains Zebra  \n",
      "3996                                        five or six  \n",
      "3997                                             5 or 6  \n",
      "\n",
      "[3420 rows x 2 columns]\n",
      "Train:2394\n",
      "Valid:513\n",
      "Test:513\n"
     ]
    }
   ],
   "source": [
    "import pandas as pd\n",
    "\n",
    "df = pd.read_csv(\"all_questions.txt\", sep=\"\\t\")\n",
    "df.head()\n",
    "\n",
    "print(df.columns)\n",
    "\n",
    "data = df[['Question', 'Answer']].dropna()\n",
    "\n",
    "print(data)\n",
    "\n",
    "from sklearn.model_selection import train_test_split\n",
    "\n",
    "train, tmp = train_test_split(data, test_size=0.3, random_state=42)\n",
    "\n",
    "val, test = train_test_split(tmp, test_size=0.5, random_state=42)\n",
    "\n",
    "print(f\"Train:{len(train)}\")\n",
    "print(f\"Valid:{len(val)}\")\n",
    "print(f\"Test:{len(test)}\")"
   ]
  },
  {
   "cell_type": "markdown",
   "metadata": {},
   "source": [
    "2. Prelucrarea textului\n",
    "\n",
    "Constă în:\n",
    "* eliminarea duplicatelor,\n",
    "* transformarea din uppercase în lowercase,\n",
    "* eliminarea caracterelor care nu sunt cuvinte și care nu sunt whitespace-uri\n",
    "* eliminarea cifrelor din text."
   ]
  },
  {
   "cell_type": "code",
   "execution_count": 26,
   "metadata": {},
   "outputs": [
    {
     "name": "stdout",
     "output_type": "stream",
     "text": [
      "Train:2240\n",
      "Valid:505\n",
      "Test:508\n",
      "Text curatat:\n",
      "2954              [drums, are, usually, played, by, what]\n",
      "3359    [were, the, recitations, of, the, ancient, gre...\n",
      "1214                      [are, otters, playful, animals]\n",
      "601     [is, ford, one, of, only, four, former, presid...\n",
      "3855    [who, were, the, orkhon, inscriptions, built, ...\n",
      "                              ...                        \n",
      "603     [did, grand, rapids, supporters, not, urge, hi...\n",
      "3633    [what, kind, of, piano, did, irving, berlin, p...\n",
      "1315                                  [garbage, is, what]\n",
      "1350    [will, oil, and, gas, probably, remain, the, b...\n",
      "3715    [how, large, is, the, population, of, san, fra...\n",
      "Name: Question, Length: 1798, dtype: object\n"
     ]
    }
   ],
   "source": [
    "# eliminare duplicate\n",
    "\n",
    "train[\"Question\"] = train[\"Question\"].drop_duplicates(keep=\"first\")\n",
    "val[\"Question\"] = val[\"Question\"].drop_duplicates(keep=\"first\")\n",
    "test[\"Question\"] = test[\"Question\"].drop_duplicates(keep=\"first\")\n",
    "\n",
    "print(f\"Train:{len(train)}\")\n",
    "print(f\"Valid:{len(val)}\")\n",
    "print(f\"Test:{len(test)}\")\n",
    "\n",
    "# transformare din uppercase in lowercase\n",
    "\n",
    "train[\"Question\"] = train[\"Question\"].map(lambda x: x.lower() if isinstance(x, str) else x)\n",
    "val[\"Question\"] = val[\"Question\"].map(lambda x: x.lower() if isinstance(x, str) else x)\n",
    "test[\"Question\"] = test[\"Question\"].map(lambda x: x.lower() if isinstance(x, str) else x)\n",
    "\n",
    "# eliminare a caracterelor care nu sunt cuvinte si care nu sunt whitespace-uri\n",
    "\n",
    "train[\"Question\"] = train[\"Question\"].replace(to_replace=r'[^\\w\\s]', value='', regex=True)\n",
    "val[\"Question\"] = val[\"Question\"].replace(to_replace=r'[^\\w\\s]', value='', regex=True)\n",
    "test[\"Question\"] = test[\"Question\"].replace(to_replace=r'[^\\w\\s]', value='', regex=True)\n",
    "\n",
    "# eliminare cifre din text \n",
    "\n",
    "train[\"Question\"] = train[\"Question\"].replace(to_replace=r'\\d', value='', regex=True)\n",
    "val[\"Question\"] = val[\"Question\"].replace(to_replace=r'\\d', value='', regex=True)\n",
    "test[\"Question\"] = test[\"Question\"].replace(to_replace=r'\\d', value='', regex=True)\n",
    "\n",
    "train = train.dropna(subset=[\"Question\"])\n",
    "val = val.dropna(subset=[\"Question\"])\n",
    "test = test.dropna(subset=[\"Question\"])\n",
    "\n",
    "print(f\"Text curatat:\")\n",
    "print(train[\"Question\"])"
   ]
  },
  {
   "cell_type": "markdown",
   "metadata": {},
   "source": [
    "3. Curatarea textului și vectorizarea TF-IDF"
   ]
  },
  {
   "cell_type": "code",
   "execution_count": 27,
   "metadata": {},
   "outputs": [
    {
     "name": "stdout",
     "output_type": "stream",
     "text": [
      "                                               Question  \\\n",
      "2954                           [drums, usually, played]   \n",
      "3359  [recitations, ancient, greeks, accompanied, ly...   \n",
      "1214                         [otters, playful, animals]   \n",
      "601   [ford, one, four, former, presidents, live, ye...   \n",
      "3855                      [orkhon, inscriptions, built]   \n",
      "...                                                 ...   \n",
      "603   [grand, rapids, supporters, urge, take, bartel...   \n",
      "3633                [kind, piano, irving, berlin, play]   \n",
      "1315                                          [garbage]   \n",
      "1350  [oil, gas, probably, remain, backbone, qatar, ...   \n",
      "3715                [large, population, san, francisco]   \n",
      "\n",
      "                                                 Answer  \n",
      "2954                 the hands, or by one or two sticks  \n",
      "3359                                                Yes  \n",
      "1214                                                yes  \n",
      "601                                                Yes.  \n",
      "3855  For the prince Kul Tigin and his brother Emper...  \n",
      "...                                                 ...  \n",
      "603                                                 No.  \n",
      "3633                             The transposing piano.  \n",
      "1315  Garbage is now recycled or transported to Thom...  \n",
      "1350                                                Yes  \n",
      "3715  The estimated population of San Francisco in t...  \n",
      "\n",
      "[1798 rows x 2 columns]\n"
     ]
    },
    {
     "name": "stderr",
     "output_type": "stream",
     "text": [
      "[nltk_data] Downloading package stopwords to\n",
      "[nltk_data]     C:\\Users\\akopo\\AppData\\Roaming\\nltk_data...\n",
      "[nltk_data]   Package stopwords is already up-to-date!\n"
     ]
    }
   ],
   "source": [
    "# tokenizare\n",
    "\n",
    "import nltk\n",
    "from nltk.tokenize import RegexpTokenizer\n",
    "from nltk.corpus import stopwords\n",
    "\n",
    "tokenizer = RegexpTokenizer(r'\\w+')\n",
    "\n",
    "train[\"Question\"] = train[\"Question\"].apply(lambda x: tokenizer.tokenize(x) if isinstance(x, str) else x)\n",
    "val[\"Question\"] = val[\"Question\"].apply(lambda x: tokenizer.tokenize(x) if isinstance(x, str) else x)\n",
    "test[\"Question\"] = test[\"Question\"].apply(lambda x: tokenizer.tokenize(x) if isinstance(x, str) else x)\n",
    "\n",
    "# stergere stopwords\n",
    "\n",
    "nltk.download('stopwords')\n",
    "\n",
    "stop_words = set(stopwords.words('english'))\n",
    "\n",
    "train[\"Question\"] = train[\"Question\"].apply(lambda x: [word for word in x if word not in stop_words])\n",
    "val[\"Question\"] = val[\"Question\"].apply(lambda x: [word for word in x if word not in stop_words])\n",
    "test[\"Question\"] = test[\"Question\"].apply(lambda x: [word for word in x if word not in stop_words])"
   ]
  },
  {
   "cell_type": "code",
   "execution_count": null,
   "metadata": {},
   "outputs": [],
   "source": [
    "from nltk.stem import WordNetLemmatizer\n",
    "from nltk.corpus import wordnet\n",
    "\n",
    "nltk.download('averaged_perceptron_tagger_eng')\n",
    "nltk.download('wordnet')\n",
    "\n",
    "# lemmatizare\n",
    "# initializare lemmatizer\n",
    "lemmatizer = WordNetLemmatizer()\n",
    "\n",
    "# functie pentru lemmatizare token-uri\n",
    "def lemmatize_tokens(tokens):\n",
    "    # conversie din pos in wordnet\n",
    "    def get_wordnet_pos(word):\n",
    "        tag = nltk.pos_tag([word])[0][1][0].upper()\n",
    "        tag_dict = {\"J\": wordnet.ADJ,\n",
    "                    \"N\": wordnet.NOUN,\n",
    "                    \"V\": wordnet.VERB,\n",
    "                    \"R\": wordnet.ADV}\n",
    "        return tag_dict.get(tag, wordnet.NOUN)\n",
    "    \n",
    "    # lematizare token-uri\n",
    "    lemmas = [lemmatizer.lemmatize(token, get_wordnet_pos(token)) for token in tokens]\n",
    "    \n",
    "    # returnare ca o lista\n",
    "    return lemmas\n",
    "\n",
    "train[\"Question\"] = train[\"Question\"].apply(lemmatize_tokens)\n",
    "val[\"Question\"] = val[\"Question\"].apply(lemmatize_tokens)\n",
    "test[\"Question\"] = test[\"Question\"].apply(lemmatize_tokens)\n",
    "\n",
    "print(train)"
   ]
  }
 ],
 "metadata": {
  "kernelspec": {
   "display_name": "Python 3",
   "language": "python",
   "name": "python3"
  },
  "language_info": {
   "codemirror_mode": {
    "name": "ipython",
    "version": 3
   },
   "file_extension": ".py",
   "mimetype": "text/x-python",
   "name": "python",
   "nbconvert_exporter": "python",
   "pygments_lexer": "ipython3",
   "version": "3.11.9"
  }
 },
 "nbformat": 4,
 "nbformat_minor": 2
}
